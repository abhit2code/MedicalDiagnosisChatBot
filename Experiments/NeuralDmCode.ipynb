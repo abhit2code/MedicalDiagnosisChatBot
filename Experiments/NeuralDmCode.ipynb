{
 "cells": [
  {
   "cell_type": "markdown",
   "id": "ddbc2d9a-81e1-4593-994c-993d9c9a9d8b",
   "metadata": {},
   "source": [
    "importing the libs"
   ]
  },
  {
   "cell_type": "code",
   "execution_count": null,
   "id": "646b7e35-b4d0-40e5-bcdc-0de8f86ab8c6",
   "metadata": {},
   "outputs": [],
   "source": [
    "import pickle\n",
    "import numpy as np"
   ]
  },
  {
   "cell_type": "code",
   "execution_count": 1,
   "id": "392432af",
   "metadata": {},
   "outputs": [],
   "source": [
    "import pandas as pd"
   ]
  },
  {
   "cell_type": "code",
   "execution_count": 16,
   "id": "0b7b2684",
   "metadata": {},
   "outputs": [
    {
     "name": "stdout",
     "output_type": "stream",
     "text": [
      "    - itching\n",
      "\n",
      "    - skin_rash\n",
      "\n",
      "    - nodal_skin_eruptions\n",
      "\n",
      "    - continuous_sneezing\n",
      "\n",
      "    - shivering\n",
      "\n",
      "    - chills\n",
      "\n",
      "    - joint_pain\n",
      "\n",
      "    - stomach_pain\n",
      "\n",
      "    - acidity\n",
      "\n",
      "    - ulcers_on_tongue\n",
      "\n",
      "    - muscle_wasting\n",
      "\n",
      "    - vomiting\n",
      "\n",
      "    - burning_micturition\n",
      "\n",
      "    - spotting_ urination\n",
      "\n",
      "    - fatigue\n",
      "\n",
      "    - weight_gain\n",
      "\n",
      "    - anxiety\n",
      "\n",
      "    - cold_hands_and_feets\n",
      "\n",
      "    - mood_swings\n",
      "\n",
      "    - weight_loss\n",
      "\n",
      "    - restlessness\n",
      "\n",
      "    - lethargy\n",
      "\n",
      "    - patches_in_throat\n",
      "\n",
      "    - irregular_sugar_level\n",
      "\n",
      "    - cough\n",
      "\n",
      "    - high_fever\n",
      "\n",
      "    - sunken_eyes\n",
      "\n",
      "    - breathlessness\n",
      "\n",
      "    - sweating\n",
      "\n",
      "    - dehydration\n",
      "\n",
      "    - indigestion\n",
      "\n",
      "    - headache\n",
      "\n",
      "    - yellowish_skin\n",
      "\n",
      "    - dark_urine\n",
      "\n",
      "    - nausea\n",
      "\n",
      "    - loss_of_appetite\n",
      "\n",
      "    - pain_behind_the_eyes\n",
      "\n",
      "    - back_pain\n",
      "\n",
      "    - constipation\n",
      "\n",
      "    - abdominal_pain\n",
      "\n",
      "    - diarrhoea\n",
      "\n",
      "    - mild_fever\n",
      "\n",
      "    - yellow_urine\n",
      "\n",
      "    - yellowing_of_eyes\n",
      "\n",
      "    - acute_liver_failure\n",
      "\n",
      "    - fluid_overload\n",
      "\n",
      "    - swelling_of_stomach\n",
      "\n",
      "    - swelled_lymph_nodes\n",
      "\n",
      "    - malaise\n",
      "\n",
      "    - blurred_and_distorted_vision\n",
      "\n",
      "    - phlegm\n",
      "\n",
      "    - throat_irritation\n",
      "\n",
      "    - redness_of_eyes\n",
      "\n",
      "    - sinus_pressure\n",
      "\n",
      "    - runny_nose\n",
      "\n",
      "    - congestion\n",
      "\n",
      "    - chest_pain\n",
      "\n",
      "    - weakness_in_limbs\n",
      "\n",
      "    - fast_heart_rate\n",
      "\n",
      "    - pain_during_bowel_movements\n",
      "\n",
      "    - pain_in_anal_region\n",
      "\n",
      "    - bloody_stool\n",
      "\n",
      "    - irritation_in_anus\n",
      "\n",
      "    - neck_pain\n",
      "\n",
      "    - dizziness\n",
      "\n",
      "    - cramps\n",
      "\n",
      "    - bruising\n",
      "\n",
      "    - obesity\n",
      "\n",
      "    - swollen_legs\n",
      "\n",
      "    - swollen_blood_vessels\n",
      "\n",
      "    - puffy_face_and_eyes\n",
      "\n",
      "    - enlarged_thyroid\n",
      "\n",
      "    - brittle_nails\n",
      "\n",
      "    - swollen_extremeties\n",
      "\n",
      "    - excessive_hunger\n",
      "\n",
      "    - extra_marital_contacts\n",
      "\n",
      "    - drying_and_tingling_lips\n",
      "\n",
      "    - slurred_speech\n",
      "\n",
      "    - knee_pain\n",
      "\n",
      "    - hip_joint_pain\n",
      "\n",
      "    - muscle_weakness\n",
      "\n",
      "    - stiff_neck\n",
      "\n",
      "    - swelling_joints\n",
      "\n",
      "    - movement_stiffness\n",
      "\n",
      "    - spinning_movements\n",
      "\n",
      "    - loss_of_balance\n",
      "\n",
      "    - unsteadiness\n",
      "\n",
      "    - weakness_of_one_body_side\n",
      "\n",
      "    - loss_of_smell\n",
      "\n",
      "    - bladder_discomfort\n",
      "\n",
      "    - foul_smell_of urine\n",
      "\n",
      "    - continuous_feel_of_urine\n",
      "\n",
      "    - passage_of_gases\n",
      "\n",
      "    - internal_itching\n",
      "\n",
      "    - toxic_look_(typhos)\n",
      "\n",
      "    - depression\n",
      "\n",
      "    - irritability\n",
      "\n",
      "    - muscle_pain\n",
      "\n",
      "    - altered_sensorium\n",
      "\n",
      "    - red_spots_over_body\n",
      "\n",
      "    - belly_pain\n",
      "\n",
      "    - abnormal_menstruation\n",
      "\n",
      "    - dischromic _patches\n",
      "\n",
      "    - watering_from_eyes\n",
      "\n",
      "    - increased_appetite\n",
      "\n",
      "    - polyuria\n",
      "\n",
      "    - family_history\n",
      "\n",
      "    - mucoid_sputum\n",
      "\n",
      "    - rusty_sputum\n",
      "\n",
      "    - lack_of_concentration\n",
      "\n",
      "    - visual_disturbances\n",
      "\n",
      "    - receiving_blood_transfusion\n",
      "\n",
      "    - receiving_unsterile_injections\n",
      "\n",
      "    - coma\n",
      "\n",
      "    - stomach_bleeding\n",
      "\n",
      "    - distention_of_abdomen\n",
      "\n",
      "    - history_of_alcohol_consumption\n",
      "\n",
      "    - fluid_overload.1\n",
      "\n",
      "    - blood_in_sputum\n",
      "\n",
      "    - prominent_veins_on_calf\n",
      "\n",
      "    - palpitations\n",
      "\n",
      "    - painful_walking\n",
      "\n",
      "    - pus_filled_pimples\n",
      "\n",
      "    - blackheads\n",
      "\n",
      "    - scurring\n",
      "\n",
      "    - skin_peeling\n",
      "\n",
      "    - silver_like_dusting\n",
      "\n",
      "    - small_dents_in_nails\n",
      "\n",
      "    - inflammatory_nails\n",
      "\n",
      "    - blister\n",
      "\n",
      "    - red_sore_around_nose\n",
      "\n",
      "    - yellow_crust_ooze\n",
      "\n",
      "    - prognosis\n"
     ]
    }
   ],
   "source": [
    "all_symptoms = []\n",
    "with open(\"../data/symptom2.txt\") as file:\n",
    "    for item in file:\n",
    "        print(item)\n",
    "        all_symptoms.append(item.split(\"\\n\")[0])"
   ]
  },
  {
   "cell_type": "code",
   "execution_count": 15,
   "id": "38389e3a",
   "metadata": {},
   "outputs": [
    {
     "data": {
      "text/plain": [
       "['    - itching',\n",
       " '    - skin_rash',\n",
       " '    - nodal_skin_eruptions',\n",
       " '    - continuous_sneezing',\n",
       " '    - shivering',\n",
       " '    - chills',\n",
       " '    - joint_pain',\n",
       " '    - stomach_pain',\n",
       " '    - acidity',\n",
       " '    - ulcers_on_tongue',\n",
       " '    - muscle_wasting',\n",
       " '    - vomiting',\n",
       " '    - burning_micturition',\n",
       " '    - spotting_ urination',\n",
       " '    - fatigue',\n",
       " '    - weight_gain',\n",
       " '    - anxiety',\n",
       " '    - cold_hands_and_feets',\n",
       " '    - mood_swings',\n",
       " '    - weight_loss',\n",
       " '    - restlessness',\n",
       " '    - lethargy',\n",
       " '    - patches_in_throat',\n",
       " '    - irregular_sugar_level',\n",
       " '    - cough',\n",
       " '    - high_fever',\n",
       " '    - sunken_eyes',\n",
       " '    - breathlessness',\n",
       " '    - sweating',\n",
       " '    - dehydration',\n",
       " '    - indigestion',\n",
       " '    - headache',\n",
       " '    - yellowish_skin',\n",
       " '    - dark_urine',\n",
       " '    - nausea',\n",
       " '    - loss_of_appetite',\n",
       " '    - pain_behind_the_eyes',\n",
       " '    - back_pain',\n",
       " '    - constipation',\n",
       " '    - abdominal_pain',\n",
       " '    - diarrhoea',\n",
       " '    - mild_fever',\n",
       " '    - yellow_urine',\n",
       " '    - yellowing_of_eyes',\n",
       " '    - acute_liver_failure',\n",
       " '    - fluid_overload',\n",
       " '    - swelling_of_stomach',\n",
       " '    - swelled_lymph_nodes',\n",
       " '    - malaise',\n",
       " '    - blurred_and_distorted_vision',\n",
       " '    - phlegm',\n",
       " '    - throat_irritation',\n",
       " '    - redness_of_eyes',\n",
       " '    - sinus_pressure',\n",
       " '    - runny_nose',\n",
       " '    - congestion',\n",
       " '    - chest_pain',\n",
       " '    - weakness_in_limbs',\n",
       " '    - fast_heart_rate',\n",
       " '    - pain_during_bowel_movements',\n",
       " '    - pain_in_anal_region',\n",
       " '    - bloody_stool',\n",
       " '    - irritation_in_anus',\n",
       " '    - neck_pain',\n",
       " '    - dizziness',\n",
       " '    - cramps',\n",
       " '    - bruising',\n",
       " '    - obesity',\n",
       " '    - swollen_legs',\n",
       " '    - swollen_blood_vessels',\n",
       " '    - puffy_face_and_eyes',\n",
       " '    - enlarged_thyroid',\n",
       " '    - brittle_nails',\n",
       " '    - swollen_extremeties',\n",
       " '    - excessive_hunger',\n",
       " '    - extra_marital_contacts',\n",
       " '    - drying_and_tingling_lips',\n",
       " '    - slurred_speech',\n",
       " '    - knee_pain',\n",
       " '    - hip_joint_pain',\n",
       " '    - muscle_weakness',\n",
       " '    - stiff_neck',\n",
       " '    - swelling_joints',\n",
       " '    - movement_stiffness',\n",
       " '    - spinning_movements',\n",
       " '    - loss_of_balance',\n",
       " '    - unsteadiness',\n",
       " '    - weakness_of_one_body_side',\n",
       " '    - loss_of_smell',\n",
       " '    - bladder_discomfort',\n",
       " '    - foul_smell_of urine',\n",
       " '    - continuous_feel_of_urine',\n",
       " '    - passage_of_gases',\n",
       " '    - internal_itching',\n",
       " '    - toxic_look_(typhos)',\n",
       " '    - depression',\n",
       " '    - irritability',\n",
       " '    - muscle_pain',\n",
       " '    - altered_sensorium',\n",
       " '    - red_spots_over_body',\n",
       " '    - belly_pain',\n",
       " '    - abnormal_menstruation',\n",
       " '    - dischromic _patches',\n",
       " '    - watering_from_eyes',\n",
       " '    - increased_appetite',\n",
       " '    - polyuria',\n",
       " '    - family_history',\n",
       " '    - mucoid_sputum',\n",
       " '    - rusty_sputum',\n",
       " '    - lack_of_concentration',\n",
       " '    - visual_disturbances',\n",
       " '    - receiving_blood_transfusion',\n",
       " '    - receiving_unsterile_injections',\n",
       " '    - coma',\n",
       " '    - stomach_bleeding',\n",
       " '    - distention_of_abdomen',\n",
       " '    - history_of_alcohol_consumption',\n",
       " '    - fluid_overload.1',\n",
       " '    - blood_in_sputum',\n",
       " '    - prominent_veins_on_calf',\n",
       " '    - palpitations',\n",
       " '    - painful_walking',\n",
       " '    - pus_filled_pimples',\n",
       " '    - blackheads',\n",
       " '    - scurring',\n",
       " '    - skin_peeling',\n",
       " '    - silver_like_dusting',\n",
       " '    - small_dents_in_nails',\n",
       " '    - inflammatory_nails',\n",
       " '    - blister',\n",
       " '    - red_sore_around_nose',\n",
       " '    - yellow_crust_ooze',\n",
       " '    - prognosis']"
      ]
     },
     "execution_count": 15,
     "metadata": {},
     "output_type": "execute_result"
    }
   ],
   "source": [
    "all_symptoms"
   ]
  },
  {
   "cell_type": "code",
   "execution_count": 3,
   "id": "9353f2d0",
   "metadata": {},
   "outputs": [],
   "source": [
    "data = pd.read_csv(\"../data/training.csv\")"
   ]
  },
  {
   "cell_type": "code",
   "execution_count": 13,
   "id": "be9cbf2b",
   "metadata": {},
   "outputs": [
    {
     "data": {
      "text/plain": [
       "4920"
      ]
     },
     "execution_count": 13,
     "metadata": {},
     "output_type": "execute_result"
    }
   ],
   "source": [
    "data.shape[0]"
   ]
  },
  {
   "cell_type": "code",
   "execution_count": 9,
   "id": "48bf991f",
   "metadata": {},
   "outputs": [
    {
     "data": {
      "text/plain": [
       "Index(['itching', 'skin_rash', 'nodal_skin_eruptions', 'continuous_sneezing',\n",
       "       'shivering', 'chills', 'joint_pain', 'stomach_pain', 'acidity',\n",
       "       'ulcers_on_tongue',\n",
       "       ...\n",
       "       'blackheads', 'scurring', 'skin_peeling', 'silver_like_dusting',\n",
       "       'small_dents_in_nails', 'inflammatory_nails', 'blister',\n",
       "       'red_sore_around_nose', 'yellow_crust_ooze', 'prognosis'],\n",
       "      dtype='object', length=133)"
      ]
     },
     "execution_count": 9,
     "metadata": {},
     "output_type": "execute_result"
    }
   ],
   "source": [
    "data.columns"
   ]
  },
  {
   "cell_type": "code",
   "execution_count": 12,
   "id": "890307e1",
   "metadata": {},
   "outputs": [
    {
     "data": {
      "text/plain": [
       "[1,\n",
       " 1,\n",
       " 1,\n",
       " 0,\n",
       " 0,\n",
       " 0,\n",
       " 0,\n",
       " 0,\n",
       " 0,\n",
       " 0,\n",
       " 0,\n",
       " 0,\n",
       " 0,\n",
       " 0,\n",
       " 0,\n",
       " 0,\n",
       " 0,\n",
       " 0,\n",
       " 0,\n",
       " 0,\n",
       " 0,\n",
       " 0,\n",
       " 0,\n",
       " 0,\n",
       " 0,\n",
       " 0,\n",
       " 0,\n",
       " 0,\n",
       " 0,\n",
       " 0,\n",
       " 0,\n",
       " 0,\n",
       " 0,\n",
       " 0,\n",
       " 0,\n",
       " 0,\n",
       " 0,\n",
       " 0,\n",
       " 0,\n",
       " 0,\n",
       " 0,\n",
       " 0,\n",
       " 0,\n",
       " 0,\n",
       " 0,\n",
       " 0,\n",
       " 0,\n",
       " 0,\n",
       " 0,\n",
       " 0,\n",
       " 0,\n",
       " 0,\n",
       " 0,\n",
       " 0,\n",
       " 0,\n",
       " 0,\n",
       " 0,\n",
       " 0,\n",
       " 0,\n",
       " 0,\n",
       " 0,\n",
       " 0,\n",
       " 0,\n",
       " 0,\n",
       " 0,\n",
       " 0,\n",
       " 0,\n",
       " 0,\n",
       " 0,\n",
       " 0,\n",
       " 0,\n",
       " 0,\n",
       " 0,\n",
       " 0,\n",
       " 0,\n",
       " 0,\n",
       " 0,\n",
       " 0,\n",
       " 0,\n",
       " 0,\n",
       " 0,\n",
       " 0,\n",
       " 0,\n",
       " 0,\n",
       " 0,\n",
       " 0,\n",
       " 0,\n",
       " 0,\n",
       " 0,\n",
       " 0,\n",
       " 0,\n",
       " 0,\n",
       " 0,\n",
       " 0,\n",
       " 0,\n",
       " 0,\n",
       " 0,\n",
       " 0,\n",
       " 0,\n",
       " 0,\n",
       " 0,\n",
       " 0,\n",
       " 1,\n",
       " 0,\n",
       " 0,\n",
       " 0,\n",
       " 0,\n",
       " 0,\n",
       " 0,\n",
       " 0,\n",
       " 0,\n",
       " 0,\n",
       " 0,\n",
       " 0,\n",
       " 0,\n",
       " 0,\n",
       " 0,\n",
       " 0,\n",
       " 0,\n",
       " 0,\n",
       " 0,\n",
       " 0,\n",
       " 0,\n",
       " 0,\n",
       " 0,\n",
       " 0,\n",
       " 0,\n",
       " 0,\n",
       " 0,\n",
       " 0,\n",
       " 0]"
      ]
     },
     "execution_count": 12,
     "metadata": {},
     "output_type": "execute_result"
    }
   ],
   "source": [
    "list(data.iloc[0, 0:131])"
   ]
  },
  {
   "cell_type": "code",
   "execution_count": null,
   "id": "a265f5e7-3c6d-4c1e-ae22-29dc16b832f9",
   "metadata": {},
   "outputs": [
    {
     "name": "stdout",
     "output_type": "stream",
     "text": [
      "Requirement already satisfied: torch in /opt/conda/lib/python3.9/site-packages (1.12.1)\n",
      "Requirement already satisfied: typing-extensions in /opt/conda/lib/python3.9/site-packages (from torch) (4.4.0)\n"
     ]
    }
   ],
   "source": [
    "!pip install torch"
   ]
  },
  {
   "cell_type": "code",
   "execution_count": null,
   "id": "148e0afd-3849-4427-a16d-a54191b595a4",
   "metadata": {},
   "outputs": [],
   "source": [
    "import torch\n",
    "from torch import nn\n",
    "import torch.nn.functional as F\n",
    "from torchvision import datasets, transforms"
   ]
  },
  {
   "cell_type": "code",
   "execution_count": null,
   "id": "2a4c26b7-e746-4786-823e-dcd1ae5485a8",
   "metadata": {},
   "outputs": [],
   "source": [
    "from torch.utils.data import Dataset\n",
    "from torch.utils.data import DataLoader"
   ]
  },
  {
   "cell_type": "markdown",
   "id": "8f2d4e1b-e313-4ff0-ad4a-980dd3b370a7",
   "metadata": {},
   "source": [
    "Loading the training data"
   ]
  },
  {
   "cell_type": "code",
   "execution_count": null,
   "id": "ab915170-cb8a-4f46-9933-9901afb0b51a",
   "metadata": {},
   "outputs": [],
   "source": [
    "with open('/home/jovyan/ChatBot/data/train.pk','rb') as f:\n",
    "    train_data = pickle.load(f)"
   ]
  },
  {
   "cell_type": "code",
   "execution_count": null,
   "id": "c351f57a-d048-4132-ac49-dee7bb8e9d5d",
   "metadata": {},
   "outputs": [
    {
     "data": {
      "text/plain": [
       "{'explicit_inform_slots': {'Cough': True,\n",
       "  'Chest tightness and shortness of breath': False},\n",
       " 'implicit_inform_slots': {'Pain behind the breastbone': False,\n",
       "  'Chest tightness': False,\n",
       "  'Hemoptysis': True,\n",
       "  'Expectoration': True},\n",
       " 'disease_tag': 'Esophagitis'}"
      ]
     },
     "execution_count": 6,
     "metadata": {},
     "output_type": "execute_result"
    }
   ],
   "source": [
    "train_data[0]"
   ]
  },
  {
   "cell_type": "markdown",
   "id": "ceede547-e242-471e-86de-b1bd3ac99ab3",
   "metadata": {},
   "source": [
    "Modeling the Data for some specific purpose"
   ]
  },
  {
   "cell_type": "code",
   "execution_count": null,
   "id": "fd0a9d76-934a-4a6b-813b-27a3586fd179",
   "metadata": {},
   "outputs": [],
   "source": [
    "all_diseases = []\n",
    "all_symptoms = []"
   ]
  },
  {
   "cell_type": "code",
   "execution_count": null,
   "id": "3706d7e9-c8c3-4a71-84e3-ca39f20ad7a7",
   "metadata": {},
   "outputs": [],
   "source": [
    "with open(\"/home/jovyan/ChatBot/data/disease.txt\") as file:\n",
    "    for item in file:\n",
    "        all_diseases.append(item.split(\"\\n\")[0])"
   ]
  },
  {
   "cell_type": "code",
   "execution_count": null,
   "id": "441e31de-07fd-48cc-b23d-2c6e9f83b3d4",
   "metadata": {},
   "outputs": [],
   "source": [
    "with open(\"/home/jovyan/ChatBot/data/symptom.txt\") as file:\n",
    "    for item in file:\n",
    "        all_symptoms.append(item.split(\"\\n\")[0])"
   ]
  },
  {
   "cell_type": "code",
   "execution_count": null,
   "id": "49d29c28-6e70-4056-8750-be1ce1b87cff",
   "metadata": {},
   "outputs": [],
   "source": [
    "def get_all_X_y(data):\n",
    "    X = []\n",
    "    y = []\n",
    "    for conversation in data:\n",
    "        sample = [0 for i in range(len(all_symptoms))]\n",
    "        for symptom in list(conversation['implicit_inform_slots'].keys()):\n",
    "            if(conversation['implicit_inform_slots'][symptom]==True):\n",
    "                sample[all_symptoms.index(symptom)] = 1\n",
    "        for symptom in list(conversation['explicit_inform_slots'].keys()):\n",
    "            if(conversation['explicit_inform_slots'][symptom]==True):\n",
    "                sample[all_symptoms.index(symptom)] = 1\n",
    "        X.append(np.array(sample))\n",
    "        y.append(all_diseases.index(conversation['disease_tag']))\n",
    "    return torch.tensor(X, dtype=torch.float), torch.tensor(y, dtype=torch.float)"
   ]
  },
  {
   "cell_type": "code",
   "execution_count": null,
   "id": "a1a14da9-afab-4c12-868b-7d6715b6ed0c",
   "metadata": {},
   "outputs": [],
   "source": [
    "def get_X_splitted(data):\n",
    "    X_implicit = []\n",
    "    explicit_questions = []\n",
    "    for conversation in data:\n",
    "        sample_implicit = [0 for i in range(len(all_symptoms))]\n",
    "        sample_explicit = [0 for i in range(len(all_symptoms))]\n",
    "        for symptom in list(conversation['implicit_inform_slots'].keys()):\n",
    "            if(conversation['implicit_inform_slots'][symptom]==True):\n",
    "                sample_implicit[all_symptoms.index(symptom)] = 1\n",
    "        for symptom in list(conversation['explicit_inform_slots'].keys()):\n",
    "            sample_explicit[all_symptoms.index(symptom)] = 1\n",
    "        explicit_questions.append(np.array(sample_explicit))\n",
    "        X_implicit.append(np.array(sample_implicit))\n",
    "    return torch.tensor(X_implicit, dtype=torch.float), torch.tensor(explicit_questions, dtype=torch.float)"
   ]
  },
  {
   "cell_type": "code",
   "execution_count": null,
   "id": "a7bc0dd7-f1a5-4858-94b2-524d7588fcad",
   "metadata": {},
   "outputs": [],
   "source": [
    "def form_nn_model_classification(input_size, hidden_sizes, output_size):\n",
    "    model = nn.Sequential(nn.Linear(input_size, hidden_sizes[0]),\n",
    "                          nn.ReLU(),\n",
    "                          nn.Linear(hidden_sizes[0], hidden_sizes[1]),\n",
    "                          nn.ReLU(),\n",
    "                          nn.Linear(hidden_sizes[1], output_size),\n",
    "                          nn.Softmax(dim=1))\n",
    "    return model"
   ]
  },
  {
   "cell_type": "code",
   "execution_count": null,
   "id": "51852644-71b0-4f9c-826a-47098f7645f9",
   "metadata": {},
   "outputs": [],
   "source": [
    "def form_nn_model_questions(input_size, hidden_sizes, output_size):\n",
    "    model = nn.Sequential(nn.Linear(input_size, hidden_sizes[0]),\n",
    "                          nn.ReLU(),\n",
    "                          nn.Linear(hidden_sizes[0], hidden_sizes[1]),\n",
    "                          nn.SiLU(),\n",
    "                          nn.Linear(hidden_sizes[1], hidden_sizes[2]),\n",
    "                          nn.ReLU(),\n",
    "                          nn.Linear(hidden_sizes[2], output_size),\n",
    "                          nn.Sigmoid())\n",
    "    return model"
   ]
  },
  {
   "cell_type": "code",
   "execution_count": null,
   "id": "6243c57b-e457-4d01-9055-5e70e25a0051",
   "metadata": {},
   "outputs": [],
   "source": [
    "class ModelMyDataset(Dataset):\n",
    "    def __init__(self, X, y):\n",
    "        self.X = X\n",
    "        self.y = y\n",
    "        self.len = len(self.X)\n",
    "    \n",
    "    def __getitem__(self, index):\n",
    "        return self.X[index], self.y[index]\n",
    "    \n",
    "    def __len__(self):\n",
    "        return self.len"
   ]
  },
  {
   "cell_type": "code",
   "execution_count": null,
   "id": "363206c2-8379-43d9-97f3-d88f168de9fc",
   "metadata": {},
   "outputs": [],
   "source": [
    "def makeDataLoader(X, y):\n",
    "    data = ModelMyDataset(X, y)\n",
    "    loader = DataLoader(dataset=data, batch_size=64, shuffle=True)\n",
    "    return loader"
   ]
  },
  {
   "cell_type": "code",
   "execution_count": null,
   "id": "2872df10-deac-4c04-acdc-3b7d023ab8ca",
   "metadata": {},
   "outputs": [],
   "source": [
    "def train_model_classification(model, epochs, X, y, flag_4_questions):\n",
    "    loss_function = nn.CrossEntropyLoss()\n",
    "    optimizer = torch.optim.SGD(model.parameters(), lr=0.003)\n",
    "    loader = makeDataLoader(X, y)\n",
    "    for epoch in range(epochs):\n",
    "        running_loss = 0\n",
    "        for i, data in enumerate(loader, 0):\n",
    "            x_batch, y_batch = data\n",
    "            optimizer.zero_grad()\n",
    "            output = model(x_batch)\n",
    "            if(flag_4_questions):\n",
    "                loss = loss_function(output, y_batch)\n",
    "            else:\n",
    "                loss = loss_function(output, torch.tensor(y_batch, dtype=torch.long))\n",
    "            loss.backward()\n",
    "            optimizer.step()\n",
    "            running_loss += loss.item()\n",
    "        print(f\"Training loss: {running_loss/len(loader)}\")\n",
    "    return model"
   ]
  },
  {
   "cell_type": "code",
   "execution_count": null,
   "id": "33ac35c9-4758-420e-b68f-3ec67c9c4bc0",
   "metadata": {},
   "outputs": [
    {
     "name": "stderr",
     "output_type": "stream",
     "text": [
      "/tmp/ipykernel_461/1753552437.py:14: UserWarning: Creating a tensor from a list of numpy.ndarrays is extremely slow. Please consider converting the list to a single numpy.ndarray with numpy.array() before converting to a tensor. (Triggered internally at  ../torch/csrc/utils/tensor_new.cpp:204.)\n",
      "  return torch.tensor(X, dtype=torch.float), torch.tensor(y, dtype=torch.float)\n"
     ]
    }
   ],
   "source": [
    "X_train, y_train = get_all_X_y(train_data)"
   ]
  },
  {
   "cell_type": "code",
   "execution_count": null,
   "id": "86781f2c-6fc1-4362-a859-4b6e6efc9f36",
   "metadata": {},
   "outputs": [],
   "source": [
    "X_train_implicit, explicit_questions_train = get_X_splitted(train_data)"
   ]
  },
  {
   "cell_type": "code",
   "execution_count": null,
   "id": "e885c133-0274-4b61-bf85-75d927c93e2b",
   "metadata": {},
   "outputs": [],
   "source": [
    "classification_model = form_nn_model_classification(118, [78, 60], 12)"
   ]
  },
  {
   "cell_type": "code",
   "execution_count": null,
   "id": "5aab0b1a-f009-452e-ad97-4473b62c58a6",
   "metadata": {},
   "outputs": [
    {
     "name": "stderr",
     "output_type": "stream",
     "text": [
      "/tmp/ipykernel_461/2556389155.py:14: UserWarning: To copy construct from a tensor, it is recommended to use sourceTensor.clone().detach() or sourceTensor.clone().detach().requires_grad_(True), rather than torch.tensor(sourceTensor).\n",
      "  loss = loss_function(output, torch.tensor(y_batch, dtype=torch.long))\n"
     ]
    },
    {
     "name": "stdout",
     "output_type": "stream",
     "text": [
      "Training loss: 2.4849793116251626\n",
      "Training loss: 2.4849728902180988\n",
      "Training loss: 2.4849753697713215\n",
      "Training loss: 2.4849756717681886\n",
      "Training loss: 2.4849749326705934\n",
      "Training loss: 2.4849682410558063\n",
      "Training loss: 2.4849617083867392\n",
      "Training loss: 2.4849597851435345\n",
      "Training loss: 2.4849605321884156\n",
      "Training loss: 2.484954086939494\n"
     ]
    }
   ],
   "source": [
    "classification_model = train_model_classification(classification_model, 10, X_train, y_train, 0)"
   ]
  },
  {
   "cell_type": "code",
   "execution_count": null,
   "id": "2335d90c-8e82-4397-af2e-80d09f1f6f31",
   "metadata": {},
   "outputs": [],
   "source": [
    "question_extraction_model = form_nn_model_questions(118, [78, 197, 78], 118)"
   ]
  },
  {
   "cell_type": "code",
   "execution_count": null,
   "id": "ef50add6-5637-4ba9-b2d5-77f70edcaec9",
   "metadata": {},
   "outputs": [
    {
     "name": "stdout",
     "output_type": "stream",
     "text": [
      "Training loss: 13.940605926513673\n",
      "Training loss: 13.93078244527181\n",
      "Training loss: 13.928387546539307\n",
      "Training loss: 13.92288153966268\n",
      "Training loss: 13.932922395070394\n",
      "Training loss: 13.923833115895588\n",
      "Training loss: 13.909375317891438\n",
      "Training loss: 13.924449729919434\n",
      "Training loss: 13.918235778808594\n",
      "Training loss: 13.92370309829712\n"
     ]
    }
   ],
   "source": [
    "question_extraction_model = train_model_classification(question_extraction_model, 10, X_train_implicit, explicit_questions_train, 1)"
   ]
  },
  {
   "cell_type": "markdown",
   "id": "2f5a8558-76dd-4efe-ac04-c38df00cbf2a",
   "metadata": {},
   "source": [
    "**Making functions for the testing the model on some dataset**"
   ]
  },
  {
   "cell_type": "markdown",
   "id": "8a256817-cb53-429e-9904-a2763c9cbf86",
   "metadata": {},
   "source": [
    "Functions for testing the question generating accuracy"
   ]
  },
  {
   "cell_type": "code",
   "execution_count": null,
   "id": "d6986d09-280b-4b6f-a3b4-46e31228670c",
   "metadata": {},
   "outputs": [],
   "source": [
    "def make_classification_predictions(model, X):\n",
    "    prob_predictions = model(X[:])\n",
    "    y_preds = []\n",
    "    for probs in prob_predictions:\n",
    "        y_preds.append(int(torch.argmax(probs)))\n",
    "    return y_preds"
   ]
  },
  {
   "cell_type": "code",
   "execution_count": null,
   "id": "cd98836b-594d-4bc3-9dbc-cffeae93c460",
   "metadata": {},
   "outputs": [],
   "source": [
    "def make_questions_extraction_predictions(model, X):\n",
    "    predictions = model(X[:])\n",
    "    for i in range(len(predictions)):\n",
    "        predictions[i] = torch.tensor(list(map(lambda x: 1 if x>0.5 else 0, predictions[i].tolist())))\n",
    "    return predictions"
   ]
  },
  {
   "cell_type": "code",
   "execution_count": null,
   "id": "e1bfe0c9-8e9f-4508-ab5b-d14cd8fe994f",
   "metadata": {},
   "outputs": [],
   "source": [
    "def calculate_accuracy(y_actual, y_pred):\n",
    "    count = 0\n",
    "    for i in range(len(y_actual)):\n",
    "        if(int(y_actual[i]) == y_pred[i]):\n",
    "            count += 1\n",
    "    return count/len(y_actual)"
   ]
  },
  {
   "cell_type": "code",
   "execution_count": null,
   "id": "8a13d583-3ce8-4955-8550-d8886b491070",
   "metadata": {},
   "outputs": [],
   "source": [
    "def calculate_accuracy_question_extraction(y_actual, y_pred):\n",
    "    count = 0\n",
    "    for i in range(len(y_actual)):\n",
    "        if(y_actual[i] == y_pred[i]):\n",
    "            count += 1\n",
    "    return count/len(y_actual)"
   ]
  },
  {
   "cell_type": "markdown",
   "id": "bedcad77-6505-4b65-adcc-53105c122412",
   "metadata": {},
   "source": [
    "validation set"
   ]
  },
  {
   "cell_type": "code",
   "execution_count": null,
   "id": "c0067dca-d596-4329-87cb-9b419b05f340",
   "metadata": {},
   "outputs": [],
   "source": [
    "with open('/home/jovyan/ChatBot/data/dev.pk','rb') as f:\n",
    "    valid_data = pickle.load(f)"
   ]
  },
  {
   "cell_type": "code",
   "execution_count": null,
   "id": "9e73c3e5-287e-4fb4-9ee9-2082c197fa4c",
   "metadata": {},
   "outputs": [],
   "source": [
    "X_valid, y_valid = get_all_X_y(valid_data)"
   ]
  },
  {
   "cell_type": "code",
   "execution_count": null,
   "id": "6644ede7-048a-497f-8473-5d6ebc57f0a4",
   "metadata": {},
   "outputs": [],
   "source": [
    "y_valid_predictions = make_classification_predictions(classification_model, X_valid)"
   ]
  },
  {
   "cell_type": "code",
   "execution_count": null,
   "id": "070ce381-858f-40e0-9524-69b9ffd3748a",
   "metadata": {},
   "outputs": [
    {
     "name": "stdout",
     "output_type": "stream",
     "text": [
      "0.06276150627615062\n"
     ]
    }
   ],
   "source": [
    "valid_accuracy = calculate_accuracy(y_valid, y_valid_predictions)\n",
    "print(valid_accuracy)"
   ]
  },
  {
   "cell_type": "code",
   "execution_count": null,
   "id": "26b33fe8-d07c-482f-89d9-cf131e2e91e9",
   "metadata": {},
   "outputs": [],
   "source": [
    "X_valid_implicit, explicit_questions_valid = get_X_splitted(valid_data)"
   ]
  },
  {
   "cell_type": "code",
   "execution_count": null,
   "id": "275c6c51-b243-4697-9f97-1d0b7aa8e6b3",
   "metadata": {},
   "outputs": [],
   "source": [
    "explicit_questions_valid_predictions = make_questions_extraction_predictions(question_extraction_model, X_valid_implicit)"
   ]
  },
  {
   "cell_type": "code",
   "execution_count": null,
   "id": "a18a4148-3dcc-40c6-9722-1b3d721864ed",
   "metadata": {},
   "outputs": [
    {
     "name": "stdout",
     "output_type": "stream",
     "text": [
      "0.0\n"
     ]
    }
   ],
   "source": [
    "valid_accuracy = calculate_accuracy_question_extraction(explicit_questions_valid.tolist(), explicit_questions_valid_predictions.tolist())\n",
    "print(valid_accuracy)"
   ]
  },
  {
   "cell_type": "markdown",
   "id": "1ecdb5f3-cbb9-4853-ba59-0a495e7e333d",
   "metadata": {},
   "source": [
    "Saving the Model"
   ]
  },
  {
   "cell_type": "code",
   "execution_count": null,
   "id": "a2b79cb3-e75c-451e-8f23-137e149735c6",
   "metadata": {},
   "outputs": [],
   "source": [
    "torch.save(classification_model, '/home/jovyan/ChatBot/models/classification_model')"
   ]
  },
  {
   "cell_type": "code",
   "execution_count": null,
   "id": "ace8074a-0dad-4f5b-aa66-3028a8d184c8",
   "metadata": {},
   "outputs": [],
   "source": [
    "torch.save(question_extraction_model, '/home/jovyan/ChatBot/models/question_extraction_model')"
   ]
  },
  {
   "cell_type": "code",
   "execution_count": null,
   "id": "09c20685-38ee-4bca-b6ca-0f0d103b0ca8",
   "metadata": {},
   "outputs": [],
   "source": []
  },
  {
   "cell_type": "code",
   "execution_count": null,
   "id": "f47c3d9c-e29d-44f8-8990-b5cae8363ee7",
   "metadata": {},
   "outputs": [],
   "source": [
    "lst = [0 for i in range(len(all_symptoms))]"
   ]
  },
  {
   "cell_type": "code",
   "execution_count": null,
   "id": "3a61814d-bae0-4466-bb9e-8ed0fb0287da",
   "metadata": {},
   "outputs": [],
   "source": [
    "lst = torch.tensor(lst).type(torch.LongTensor)"
   ]
  },
  {
   "cell_type": "code",
   "execution_count": null,
   "id": "0c7f8ffb-1350-46ad-a498-884756096507",
   "metadata": {},
   "outputs": [
    {
     "data": {
      "text/plain": [
       "tensor([[0, 0, 0, 0, 0, 0, 0, 0, 0, 0, 0, 0, 0, 0, 0, 0, 0, 0, 0, 0, 0, 0, 0, 0,\n",
       "         0, 0, 0, 0, 0, 0, 0, 0, 0, 0, 0, 0, 0, 0, 0, 0, 0, 0, 0, 0, 0, 0, 0, 0,\n",
       "         0, 0, 0, 0, 0, 0, 0, 0, 0, 0, 0, 0, 0, 0, 0, 0, 0, 0, 0, 0, 0, 0, 0, 0,\n",
       "         0, 0, 0, 0, 0, 0, 0, 0, 0, 0, 0, 0, 0, 0, 0, 0, 0, 0, 0, 0, 0, 0, 0, 0,\n",
       "         0, 0, 0, 0, 0, 0, 0, 0, 0, 0, 0, 0, 0, 0, 0, 0, 0, 0, 0, 0, 0, 0]])"
      ]
     },
     "execution_count": 73,
     "metadata": {},
     "output_type": "execute_result"
    }
   ],
   "source": [
    "lst"
   ]
  },
  {
   "cell_type": "code",
   "execution_count": null,
   "id": "ee689b4e-a022-4656-b47d-80b0f6eb3a2c",
   "metadata": {},
   "outputs": [
    {
     "data": {
      "text/plain": [
       "tensor([0.5162, 0.5264, 0.4776, 0.5357, 0.5233, 0.5313, 0.4980, 0.4815, 0.4892,\n",
       "        0.4972, 0.4930, 0.5290, 0.4832, 0.4860, 0.5409, 0.5211, 0.4715, 0.4815,\n",
       "        0.5058, 0.5166, 0.4846, 0.5065, 0.4750, 0.4922, 0.4833, 0.5205, 0.4828,\n",
       "        0.4900, 0.4991, 0.5294, 0.5197, 0.4864, 0.4927, 0.5279, 0.5271, 0.5063,\n",
       "        0.4807, 0.5152, 0.4895, 0.4694, 0.5019, 0.4690, 0.4705, 0.4790, 0.5232,\n",
       "        0.5002, 0.4970, 0.5010, 0.5255, 0.4821, 0.4705, 0.4842, 0.5224, 0.4895,\n",
       "        0.5026, 0.4857, 0.4789, 0.4828, 0.4673, 0.5152, 0.4725, 0.4876, 0.4916,\n",
       "        0.5032, 0.5062, 0.4980, 0.5244, 0.5099, 0.5113, 0.5085, 0.5086, 0.4773,\n",
       "        0.5132, 0.4988, 0.4765, 0.4766, 0.5296, 0.4995, 0.4745, 0.5015, 0.5162,\n",
       "        0.4959, 0.5320, 0.5034, 0.4889, 0.5133, 0.4755, 0.4921, 0.4967, 0.4928,\n",
       "        0.4964, 0.5243, 0.4883, 0.5094, 0.4794, 0.4894, 0.4822, 0.5044, 0.5024,\n",
       "        0.4729, 0.4816, 0.5109, 0.5175, 0.4899, 0.4700, 0.4930, 0.5080, 0.5013,\n",
       "        0.5229, 0.5081, 0.4758, 0.4990, 0.4790, 0.4819, 0.4857, 0.4894, 0.5144,\n",
       "        0.4817], grad_fn=<SigmoidBackward0>)"
      ]
     },
     "execution_count": 79,
     "metadata": {},
     "output_type": "execute_result"
    }
   ],
   "source": [
    "question_extraction_model(torch.tensor(lst, dtype=torch.float))"
   ]
  },
  {
   "cell_type": "code",
   "execution_count": null,
   "id": "661f5921-9859-4437-bd15-004d9637dd95",
   "metadata": {},
   "outputs": [],
   "source": [
    "import torch"
   ]
  },
  {
   "cell_type": "code",
   "execution_count": null,
   "id": "0e0b4818-35a4-48ac-b5eb-4235ce0f13d4",
   "metadata": {},
   "outputs": [],
   "source": [
    "lst  = torch.tensor([0 for i in range(118)], dtype=torch.float)"
   ]
  },
  {
   "cell_type": "code",
   "execution_count": null,
   "id": "d2357556-9f0f-40ea-ad6f-4944ba4c5cdd",
   "metadata": {},
   "outputs": [
    {
     "data": {
      "text/plain": [
       "tensor([0., 0., 0., 0., 0., 0., 0., 0., 0., 0., 0., 0., 0., 0., 0., 0., 0., 0., 0., 0., 0., 0., 0., 0.,\n",
       "        0., 0., 0., 0., 0., 0., 0., 0., 0., 0., 0., 0., 0., 0., 0., 0., 0., 0., 0., 0., 0., 0., 0., 0.,\n",
       "        0., 0., 0., 0., 0., 0., 0., 0., 0., 0., 0., 0., 0., 0., 0., 0., 0., 0., 0., 0., 0., 0., 0., 0.,\n",
       "        0., 0., 0., 0., 0., 0., 0., 0., 0., 0., 0., 0., 0., 0., 0., 0., 0., 0., 0., 0., 0., 0., 0., 0.,\n",
       "        0., 0., 0., 0., 0., 0., 0., 0., 0., 0., 0., 0., 0., 0., 0., 0., 0., 0., 0., 0., 0., 0.])"
      ]
     },
     "execution_count": 27,
     "metadata": {},
     "output_type": "execute_result"
    }
   ],
   "source": [
    "lst"
   ]
  },
  {
   "cell_type": "code",
   "execution_count": null,
   "id": "45d5b5ce-69fe-429d-8015-102dcc17fa17",
   "metadata": {},
   "outputs": [],
   "source": [
    "question_extraction_model = torch.load('/home/jovyan/ChatBot/models/question_extraction_model')"
   ]
  },
  {
   "cell_type": "code",
   "execution_count": null,
   "id": "826ed838-0034-4fb5-bb7c-f81544478afe",
   "metadata": {},
   "outputs": [],
   "source": [
    "preds = question_extraction_model(lst[:])"
   ]
  },
  {
   "cell_type": "code",
   "execution_count": null,
   "id": "9c3256b4-8685-48ee-b297-162853352307",
   "metadata": {},
   "outputs": [
    {
     "data": {
      "text/plain": [
       "tensor([0.5162, 0.5264, 0.4776, 0.5357, 0.5233, 0.5313, 0.4980, 0.4815, 0.4892,\n",
       "        0.4972, 0.4930, 0.5290, 0.4832, 0.4860, 0.5409, 0.5211, 0.4715, 0.4815,\n",
       "        0.5058, 0.5166, 0.4846, 0.5065, 0.4750, 0.4922, 0.4833, 0.5205, 0.4828,\n",
       "        0.4900, 0.4991, 0.5294, 0.5197, 0.4864, 0.4927, 0.5279, 0.5271, 0.5063,\n",
       "        0.4807, 0.5152, 0.4895, 0.4694, 0.5019, 0.4690, 0.4705, 0.4790, 0.5232,\n",
       "        0.5002, 0.4970, 0.5010, 0.5255, 0.4821, 0.4705, 0.4842, 0.5224, 0.4895,\n",
       "        0.5026, 0.4857, 0.4789, 0.4828, 0.4673, 0.5152, 0.4725, 0.4876, 0.4916,\n",
       "        0.5032, 0.5062, 0.4980, 0.5244, 0.5099, 0.5113, 0.5085, 0.5086, 0.4773,\n",
       "        0.5132, 0.4988, 0.4765, 0.4766, 0.5296, 0.4995, 0.4745, 0.5015, 0.5162,\n",
       "        0.4959, 0.5320, 0.5034, 0.4889, 0.5133, 0.4755, 0.4921, 0.4967, 0.4928,\n",
       "        0.4964, 0.5243, 0.4883, 0.5094, 0.4794, 0.4894, 0.4822, 0.5044, 0.5024,\n",
       "        0.4729, 0.4816, 0.5109, 0.5175, 0.4899, 0.4700, 0.4930, 0.5080, 0.5013,\n",
       "        0.5229, 0.5081, 0.4758, 0.4990, 0.4790, 0.4819, 0.4857, 0.4894, 0.5144,\n",
       "        0.4817], grad_fn=<SigmoidBackward0>)"
      ]
     },
     "execution_count": 30,
     "metadata": {},
     "output_type": "execute_result"
    }
   ],
   "source": [
    "preds"
   ]
  },
  {
   "cell_type": "code",
   "execution_count": null,
   "id": "3eca9e7c-83fd-4e31-bef5-88c2b6dd1330",
   "metadata": {},
   "outputs": [],
   "source": []
  }
 ],
 "metadata": {
  "kernelspec": {
   "display_name": "Python 3",
   "language": "python",
   "name": "python3"
  },
  "language_info": {
   "codemirror_mode": {
    "name": "ipython",
    "version": 3
   },
   "file_extension": ".py",
   "mimetype": "text/x-python",
   "name": "python",
   "nbconvert_exporter": "python",
   "pygments_lexer": "ipython3",
   "version": "3.7.9"
  },
  "vscode": {
   "interpreter": {
    "hash": "a3228c686c13c3891ac7b9546204ca4390d65863877b8863b460a3da758c70c9"
   }
  }
 },
 "nbformat": 4,
 "nbformat_minor": 5
}
